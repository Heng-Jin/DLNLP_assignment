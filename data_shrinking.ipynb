{
 "cells": [
  {
   "cell_type": "code",
   "execution_count": 3,
   "id": "9100bdab",
   "metadata": {},
   "outputs": [],
   "source": [
    "import pandas as pd\n",
    "\n",
    "# 读取原始 csv 文件\n",
    "df = pd.read_csv('Kaggle_news_test.csv')\n",
    "\n",
    "# 设置可接受的 category 值\n",
    "valid_categories = ['POLITICS', 'WELLNESS', 'ENTERTAINMENT', 'TRAVEL', 'STYLE & BEAUTY']\n",
    "\n",
    "# 筛选 category 列值在 valid_categories 中的行\n",
    "df = df[df['category'].isin(valid_categories)]\n",
    "\n",
    "# 将 labels 列的值修改为 category 在 valid_categories 列表中的位置索引值\n",
    "df['labels'] = df['category'].apply(lambda x: valid_categories.index(x))\n",
    "\n",
    "# 将剩余的行保存为新的 csv 文件\n",
    "df.to_csv('Kaggle_news_test_5class.csv', index=False)"
   ]
  },
  {
   "cell_type": "code",
   "execution_count": null,
   "id": "8e2caea2",
   "metadata": {},
   "outputs": [],
   "source": []
  }
 ],
 "metadata": {
  "kernelspec": {
   "display_name": "Python 3 (ipykernel)",
   "language": "python",
   "name": "python3"
  },
  "language_info": {
   "codemirror_mode": {
    "name": "ipython",
    "version": 3
   },
   "file_extension": ".py",
   "mimetype": "text/x-python",
   "name": "python",
   "nbconvert_exporter": "python",
   "pygments_lexer": "ipython3",
   "version": "3.9.16"
  }
 },
 "nbformat": 4,
 "nbformat_minor": 5
}
